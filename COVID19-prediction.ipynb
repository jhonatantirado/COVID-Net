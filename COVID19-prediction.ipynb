{
 "cells": [
  {
   "cell_type": "code",
   "execution_count": null,
   "metadata": {},
   "outputs": [],
   "source": [
    "import os\n",
    "import urllib.request\n",
    "import cloudinary.uploader\n",
    "import numpy as np\n",
    "import tensorflow as tf\n",
    "from flask import Flask, jsonify\n",
    "from keras.preprocessing import image\n",
    "import cv2\n",
    "import matplotlib.pyplot as plt"
   ]
  },
  {
   "cell_type": "code",
   "execution_count": null,
   "metadata": {},
   "outputs": [],
   "source": [
    "img_width, img_height = 224, 224\n",
    "inv_mapping = {0: 'normal', 1: 'pneumonia', 2: 'COVID-19'}\n",
    "weightspath = 'model'\n",
    "metaname = 'model.meta_eval'\n",
    "ckptname = 'model-6207'\n",
    "image_tensor_name = 'input_1:0'\n",
    "pred_tensor_name = 'dense_3/Softmax:0'\n",
    "\n",
    "sess = None\n",
    "image_tensor = None\n",
    "pred_tensor = None"
   ]
  },
  {
   "cell_type": "code",
   "execution_count": null,
   "metadata": {},
   "outputs": [],
   "source": [
    "cloudinary.config(\n",
    "    cloud_name=\"ds04o8pmi\",\n",
    "    api_key=\"618563954112198\",\n",
    "    api_secret=\"17I684A-O6lVnHh0fRQ9IPje1zQ\"\n",
    ")"
   ]
  },
  {
   "cell_type": "code",
   "execution_count": null,
   "metadata": {},
   "outputs": [],
   "source": [
    "def load_image(image_path):\n",
    "    url = cloudinary.utils.cloudinary_url(image_path)\n",
    "    urllib.request.urlretrieve(url[0], image_path)\n",
    "    img = cv2.imread(image_path)\n",
    "    plt.imshow(img)\n",
    "    img = cv2.resize(img, (img_width, img_height))\n",
    "    img = img.astype('float32') / 255.0\n",
    "\n",
    "    return img"
   ]
  },
  {
   "cell_type": "code",
   "execution_count": null,
   "metadata": {},
   "outputs": [],
   "source": [
    "def load_model():\n",
    "    global sess\n",
    "    global image_tensor\n",
    "    global pred_tensor\n",
    "\n",
    "    sess = tf.Session()\n",
    "    tf.get_default_graph()\n",
    "    saver = tf.train.import_meta_graph(os.path.join(weightspath, metaname))\n",
    "    saver.restore(sess, os.path.join(weightspath, ckptname))\n",
    "    graph = tf.get_default_graph()\n",
    "    image_tensor = graph.get_tensor_by_name(image_tensor_name)\n",
    "    pred_tensor = graph.get_tensor_by_name(pred_tensor_name)"
   ]
  },
  {
   "cell_type": "code",
   "execution_count": null,
   "metadata": {},
   "outputs": [],
   "source": [
    "def predict(x):\n",
    "    pred = sess.run(pred_tensor, feed_dict={image_tensor: np.expand_dims(x, axis=0)})\n",
    "    return pred"
   ]
  },
  {
   "cell_type": "code",
   "execution_count": null,
   "metadata": {},
   "outputs": [],
   "source": [
    "def get_prediagnosis(image_url):\n",
    "    img_tensor = load_image(image_url)\n",
    "    print ('image loaded')\n",
    "    result = predict(img_tensor)\n",
    "    print ('before final return')\n",
    "    os.remove(image_url)\n",
    "    print('Prediction: {}'.format(inv_mapping[result.argmax(axis=1)[0]]))\n",
    "\n",
    "    return result.tolist()"
   ]
  },
  {
   "cell_type": "code",
   "execution_count": null,
   "metadata": {},
   "outputs": [],
   "source": [
    "load_model()"
   ]
  },
  {
   "cell_type": "code",
   "execution_count": null,
   "metadata": {},
   "outputs": [],
   "source": [
    "image_url = 'ex-covid_jieu96.jpeg'"
   ]
  },
  {
   "cell_type": "code",
   "execution_count": null,
   "metadata": {},
   "outputs": [],
   "source": [
    "get_prediagnosis(image_url)"
   ]
  }
 ],
 "metadata": {
  "kernelspec": {
   "display_name": "Python 3",
   "language": "python",
   "name": "python3"
  },
  "language_info": {
   "codemirror_mode": {
    "name": "ipython",
    "version": 3
   },
   "file_extension": ".py",
   "mimetype": "text/x-python",
   "name": "python",
   "nbconvert_exporter": "python",
   "pygments_lexer": "ipython3",
   "version": "3.6.8"
  }
 },
 "nbformat": 4,
 "nbformat_minor": 2
}
